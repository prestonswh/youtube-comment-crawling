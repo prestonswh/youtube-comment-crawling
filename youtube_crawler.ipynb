{
 "cells": [
  {
   "cell_type": "code",
   "execution_count": 4,
   "metadata": {},
   "outputs": [],
   "source": [
    "import time\n",
    "\n",
    "import pandas as pd\n",
    "from bs4 import BeautifulSoup\n",
    "from selenium import webdriver as wd"
   ]
  },
  {
   "cell_type": "code",
   "execution_count": 5,
   "metadata": {},
   "outputs": [],
   "source": [
    "## CHECK START TIME\n",
    "start = time.time()       # To cacluate the overall time\n",
    "\n",
    "driver = wd.Chrome()\n",
    "\n",
    "# INPUT YOUTUBE URL\n",
    "url = \"https://www.youtube.com/post/UgkxL-41MTrFcU_QhMGJl-uU2BAWwHbNGd6O\"       # URL of the youtube video\n",
    "driver.get(url)\n",
    "\n",
    "last_page_height = driver.execute_script(\"return document.documentElement.scrollHeight\")\n",
    "\n",
    "while True:\n",
    "    driver.execute_script(\"window.scrollTo(0, document.documentElement.scrollHeight);\")\n",
    "    time.sleep(1.0)       # need at least 1 second to load the page\n",
    "    new_page_height = driver.execute_script(\"return document.documentElement.scrollHeight\")\n",
    "\n",
    "    if new_page_height == last_page_height:\n",
    "        break\n",
    "    last_page_height = new_page_height\n",
    "\n",
    "html_source = driver.page_source\n",
    "driver.close()"
   ]
  },
  {
   "cell_type": "code",
   "execution_count": 120,
   "metadata": {},
   "outputs": [],
   "source": [
    "# HTML 태크 크롤링 작업\n",
    "soup = BeautifulSoup(html_source, \"lxml\")\n",
    "\n",
    "# <div id=\"header-author\" class=\"style-scope ytd-comment-renderer\">\n",
    "    #     <h3 class=\"style-scope ytd-comment-renderer\">\n",
    "    #       <a id=\"author-text\" class=\"yt-simple-endpoint style-scope ytd-comment-renderer\" href=\"/channel/UCOA39r7z2EHBSA2llS9-wkQ\">\n",
    "    #         <yt-formatted-string respect-lang-dir=\"\" class=\" style-scope ytd-comment-renderer style-scope ytd-comment-renderer\">@user-sh5mb3se4v</yt-formatted-string>\n",
    "    #       </a>\n",
    "    #     </h3>\n",
    "    #     <span id=\"author-comment-badge\" class=\"style-scope ytd-comment-renderer\" hidden=\"\"></span>\n",
    "    #     <span id=\"sponsor-comment-badge\" class=\"style-scope ytd-comment-renderer\" hidden=\"\"></span>\n",
    "    #     <yt-formatted-string class=\"published-time-text style-scope ytd-comment-renderer\" link-inherit-color=\"\" has-link-only_=\"\"><a class=\"yt-simple-endpoint style-scope yt-formatted-string\" spellcheck=\"false\" href=\"/channel/UC7Xwa6p0x1lp8X2IiO8V2_Q/community?lc=UgxyEDoBrS4LdxgI0w14AaABAg&amp;lb=UgkxL-41MTrFcU_QhMGJl-uU2BAWwHbNGd6O\" dir=\"auto\">1일 전</a></yt-formatted-string>\n",
    "    #     <span id=\"sponsors-only-badge\" class=\"style-scope ytd-comment-renderer\" hidden=\"\"></span>\n",
    "    #   </div>\n",
    "\n",
    "youtube_user_IDs = soup.select(\"div#header-author > h3 > #author-text > yt-formatted-string\")\n",
    "youtube_comments = soup.select(\"yt-formatted-string#content-text\")"
   ]
  },
  {
   "cell_type": "code",
   "execution_count": 121,
   "metadata": {},
   "outputs": [],
   "source": [
    "str_youtube_userIDs = []   # user ID list\n",
    "str_youtube_comments = []  # user comment list\n",
    "\n",
    "# REPLACE DATA\n",
    "for i in range(len(youtube_user_IDs)):\n",
    "    str_tmp = str(youtube_user_IDs[i].text)\n",
    "    # str_tmp = str_tmp.replace('\\n', '')\n",
    "    str_tmp = str_tmp.replace('\\t', '')\n",
    "    str_tmp = str_tmp.replace('   ','')\n",
    "    str_youtube_userIDs.append(str_tmp)\n",
    "\n",
    "    str_tmp = str(youtube_comments[i].text)\n",
    "    # str_tmp = str_tmp.replace('\\n', '')\n",
    "    str_tmp = str_tmp.replace('\\t', '')\n",
    "    str_tmp = str_tmp.replace('   ','')\n",
    "    str_youtube_comments.append(str_tmp)"
   ]
  },
  {
   "cell_type": "code",
   "execution_count": 122,
   "metadata": {},
   "outputs": [],
   "source": [
    "# MODIFY VIEW FORMAT\n",
    "pd_data = {\"ID\":str_youtube_userIDs, \"comment\":str_youtube_comments}\n",
    "youtube_pd = pd.DataFrame(pd_data)"
   ]
  },
  {
   "cell_type": "code",
   "execution_count": 123,
   "metadata": {},
   "outputs": [
    {
     "name": "stdout",
     "output_type": "stream",
     "text": [
      "                     ID                                            comment\n",
      "0    @maplestory_hamgun  23년을 마무리하며 진행되는 『햄군님의 햄생역전 시즌 3』\\n이번 햄생역전 시즌3는...\n",
      "1      @user-sh5mb3se4v           ※ 이벤트 참여 댓글 양식 예시\\n1. 햄님 / 리부트 1서버\\n2. M\n",
      "2            @manduck-O  1. 굽엄 / 리부트 2서버\\n2. C\\n\\n여름 6차 하이퍼버닝 이벤트로 리부트를...\n",
      "3            @acura2891  1. 근본김진영 / 리부트 2\\n2. C\\n\\n끝없는 질문공격에도 항상 답변을 잘해...\n",
      "4      @user-ph3oy5dk9x  1. 아크비숲 / 리부트 1 서버\\n2. C\\n\\n\\n\\n메이플을 리부트로 처음 접...\n",
      "..                  ...                                                ...\n",
      "713    @user-jk6rq5xx8p                                  아이브liz/리부트 1서버\\nH\n",
      "714    @user-ox6uu2ki7o                                     조선제일검마/리부트2\\nC\n",
      "715          @qjh-yv9ds                                      금붕어큐큐 /크로아\\nP\n",
      "716    @user-qi9wp2vo9w                                    1. Rumikr1\\n2.M\n",
      "717    @user-qc6br7tj2z                                        새말역/리부트1\\nH\n",
      "\n",
      "[718 rows x 2 columns]\n"
     ]
    }
   ],
   "source": [
    "# print the result pd\n",
    "print(youtube_pd)"
   ]
  },
  {
   "cell_type": "code",
   "execution_count": 60,
   "metadata": {},
   "outputs": [
    {
     "name": "stdout",
     "output_type": "stream",
     "text": [
      "Running Time :  1795.6477432250977\n"
     ]
    }
   ],
   "source": [
    "# WRITE TO EXCEL\n",
    "youtube_pd.to_excel(r\"C:\\Users\\user\\Desktop\\KAIST\\miniproject\\youtube_comment_crawling\\data1.xlsx\", sheet_name=\"sheet1\", index=True)\n",
    "print(\"Running Time : \", time.time() - start)       # print the running time"
   ]
  },
  {
   "cell_type": "code",
   "execution_count": 136,
   "metadata": {},
   "outputs": [
    {
     "name": "stdout",
     "output_type": "stream",
     "text": [
      "310 쁘얏/리부트1\n",
      "상자C\n",
      "\n",
      "젭알...ㅜ.ㅜ\n",
      "492 1.아델유이즈/리부트1\n",
      "2C\n",
      "615 똥마렵누\n",
      "667 주로닝 / 리부트1서버\n",
      "C상자\n",
      "682 1. 랑눈 / 리부트1서버\n",
      "\n",
      "2. H\n"
     ]
    }
   ],
   "source": [
    "alphabet = []\n",
    "error = []\n",
    "\n",
    "for i in range(2, len(youtube_pd)):\n",
    "    try:\n",
    "        temp = youtube_pd['comment'][i].split('\\n')[1] # 2. C\n",
    "        try:\n",
    "            temp = temp.split('.')[1] # C\n",
    "            temp = temp.replace(' ', '') # space remove\n",
    "            temp = temp[0] # first letter only\n",
    "            temp = temp.upper() # upper case\n",
    "            alphabet.append(temp)\n",
    "        except:\n",
    "            if temp.upper() == 'M' or temp.upper() == 'H' or temp.upper() == 'P' or temp.upper() == 'C':\n",
    "                alphabet.append(temp.upper())\n",
    "            elif temp.split(' ')[1].upper() == 'M' or temp.split(' ')[1].upper() == 'H' or temp.split(' ')[1].upper() == 'P' or temp.split(' ')[1].upper() == 'C':\n",
    "                alphabet.append(temp.split(' ')[1].upper())\n",
    "            elif \"상자\" in temp:\n",
    "                temp = temp.replace('상자', '')\n",
    "                temp = temp.upper()\n",
    "                alphabet.append(temp)\n",
    "            else:\n",
    "                print(i, temp)\n",
    "                print(\"상자\" in temp)\n",
    "                error.append(temp)\n",
    "    except:\n",
    "        print(i, youtube_pd['comment'][i])\n",
    "\n",
    "pd_data_alp = {\"alphabet\":alphabet}\n",
    "youtube_pd_alp = pd.DataFrame(pd_data_alp)"
   ]
  },
  {
   "cell_type": "code",
   "execution_count": 138,
   "metadata": {},
   "outputs": [
    {
     "data": {
      "image/png": "[encoded data removed]",
      "text/plain": [
       "<Figure size 432x288 with 1 Axes>"
      ]
     },
     "metadata": {},
     "output_type": "display_data"
    }
   ],
   "source": [
    "# draw a graph of alphabet frequency\n",
    "import matplotlib.pyplot as plt\n",
    "import seaborn as sns\n",
    "sns.set(style=\"darkgrid\")\n",
    "ax = sns.countplot(x=\"alphabet\", data=youtube_pd_alp, order=['M', 'H', 'P', 'C'])\n",
    "plt.show()"
   ]
  },
  {
   "cell_type": "code",
   "execution_count": 139,
   "metadata": {},
   "outputs": [
    {
     "name": "stdout",
     "output_type": "stream",
     "text": [
      "Counter({'M': 210, 'H': 185, 'P': 173, 'C': 138, 'S': 1, 'B': 1, 'L': 1, 'E': 1, 'R': 1})\n"
     ]
    }
   ],
   "source": [
    "# count the number of each alphabet\n",
    "from collections import Counter\n",
    "print(Counter(alphabet))"
   ]
  },
  {
   "cell_type": "code",
   "execution_count": 140,
   "metadata": {},
   "outputs": [
    {
     "data": {
      "image/png": "[encoded data removed]",
      "text/plain": [
       "<Figure size 432x288 with 1 Axes>"
      ]
     },
     "metadata": {},
     "output_type": "display_data"
    }
   ],
   "source": [
    "# M is worth 10 points but only 1 is selected\n",
    "# H is worth 5 points but only 3 are selected\n",
    "# P is worth 3 points but only 5 are selected\n",
    "# C is worth 1 points but only 10 are selected\n",
    "\n",
    "# expected value\n",
    "M = 10*(1/Counter(alphabet)['M'])\n",
    "H = 5*(3/Counter(alphabet)['H'])\n",
    "P = 3*(5/Counter(alphabet)['P'])\n",
    "C = 1*(10/Counter(alphabet)['C'])\n",
    "\n",
    "# draw a graph\n",
    "import matplotlib.pyplot as plt\n",
    "import seaborn as sns\n",
    "sns.set(style=\"darkgrid\")\n",
    "ax = sns.barplot(x=[\"M\", \"H\", \"P\", \"C\"], y=[M, H, P, C])\n",
    "plt.show()"
   ]
  },
  {
   "cell_type": "code",
   "execution_count": 137,
   "metadata": {},
   "outputs": [
    {
     "name": "stdout",
     "output_type": "stream",
     "text": [
      "Running Time :  4255.629590988159\n"
     ]
    }
   ],
   "source": [
    "## WRITE TO EXCEL\n",
    "youtube_pd_alp.to_excel(r\"C:\\Users\\user\\Desktop\\KAIST\\miniproject\\youtube_comment_crawling\\data2.xlsx\", sheet_name=\"sheet1\", index=True)\n",
    "print(\"Running Time : \", time.time() - start)       # print the running time"
   ]
  }
 ],
 "metadata": {
  "kernelspec": {
   "display_name": "Python 3.9.12 ('base')",
   "language": "python",
   "name": "python3"
  },
  "language_info": {
   "codemirror_mode": {
    "name": "ipython",
    "version": 3
   },
   "file_extension": ".py",
   "mimetype": "text/x-python",
   "name": "python",
   "nbconvert_exporter": "python",
   "pygments_lexer": "ipython3",
   "version": "3.9.12"
  },
  "orig_nbformat": 4,
  "vscode": {
   "interpreter": {
    "hash": "a077222d77dfe082b8f1dd562ad70e458ac2ab76993a0b248ab0476e32e9e8dd"
   }
  }
 },
 "nbformat": 4,
 "nbformat_minor": 2
}
